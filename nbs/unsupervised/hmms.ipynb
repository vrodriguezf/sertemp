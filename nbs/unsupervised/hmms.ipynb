{
 "cells": [
  {
   "cell_type": "markdown",
   "metadata": {},
   "source": [
    "# Define the Model Parameters\n",
    "Define the initial probabilities, transition probabilities, and emission probabilities."
   ]
  },
  {
   "cell_type": "code",
   "execution_count": 1,
   "metadata": {},
   "outputs": [],
   "source": [
    "# Define the initial probabilities\n",
    "initial_probabilities = {'Rainy': 0.6, 'Sunny': 0.4}\n",
    "\n",
    "# Define the transition probabilities\n",
    "transition_probabilities = {\n",
    "    'Rainy': {'Rainy': 0.7, 'Sunny': 0.3},\n",
    "    'Sunny': {'Rainy': 0.4, 'Sunny': 0.6}\n",
    "}\n",
    "\n",
    "# Define the emission probabilities\n",
    "emission_probabilities = {\n",
    "    'Rainy': {'Walk': 0.1, 'Shop': 0.4, 'Clean': 0.5},\n",
    "    'Sunny': {'Walk': 0.6, 'Shop': 0.3, 'Clean': 0.1}\n",
    "}\n",
    "\n",
    "# Plot the Markov chain\n",
    "import matplotlib.pyplot as plt\n",
    "import networkx as nx\n",
    "from networkx.drawing.nx_agraph import to_agraph\n",
    "\n"
   ]
  },
  {
   "cell_type": "markdown",
   "metadata": {},
   "source": [
    "# Initialize the Model\n",
    "Initialize the Hidden Markov Model with the defined parameters."
   ]
  },
  {
   "cell_type": "code",
   "execution_count": null,
   "metadata": {},
   "outputs": [],
   "source": [
    "# Define the states and observations\n",
    "states = ('Rainy', 'Sunny')\n",
    "observations = ('Walk', 'Shop', 'Clean')\n",
    "\n",
    "# Initialize the Hidden Markov Model\n",
    "class HiddenMarkovModel:\n",
    "    def __init__(self, states, observations, initial_probabilities, transition_probabilities, emission_probabilities):\n",
    "        self.states = states\n",
    "        self.observations = observations\n",
    "        self.initial_probabilities = initial_probabilities\n",
    "        self.transition_probabilities = transition_probabilities\n",
    "        self.emission_probabilities = emission_probabilities\n",
    "\n",
    "# Create an instance of the Hidden Markov Model\n",
    "hmm = HiddenMarkovModel(states, observations, initial_probabilities, transition_probabilities, emission_probabilities)"
   ]
  },
  {
   "cell_type": "markdown",
   "metadata": {},
   "source": [
    "# Implement the Forward Algorithm\n",
    "Implement the forward algorithm for calculating the probability of a sequence of observations."
   ]
  },
  {
   "cell_type": "code",
   "execution_count": null,
   "metadata": {},
   "outputs": [],
   "source": [
    "# Implement the Forward Algorithm\n",
    "def forward_algorithm(self, obs_seq):\n",
    "    # Initialize the forward probabilities matrix\n",
    "    forward_probs = [{}]\n",
    "\n",
    "    # Calculate the forward probabilities for the first observation\n",
    "    for state in self.states:\n",
    "        forward_probs[0][state] = self.initial_probabilities[state] * self.emission_probabilities[state][obs_seq[0]]\n",
    "\n",
    "    # Calculate the forward probabilities for the rest of the observations\n",
    "    for t in range(1, len(obs_seq)):\n",
    "        forward_probs.append({})\n",
    "        for state in self.states:\n",
    "            forward_probs[t][state] = sum(forward_probs[t-1][prev_state] * self.transition_probabilities[prev_state][state] * self.emission_probabilities[state][obs_seq[t]] for prev_state in self.states)\n",
    "\n",
    "    # Return the forward probabilities matrix\n",
    "    return forward_probs\n",
    "\n",
    "# Add the forward algorithm to the HiddenMarkovModel class\n",
    "HiddenMarkovModel.forward_algorithm = forward_algorithm\n",
    "\n",
    "# Test the forward algorithm\n",
    "obs_seq = ('Walk', 'Shop', 'Clean')\n",
    "forward_probs = hmm.forward_algorithm(obs_seq)\n",
    "print(forward_probs)"
   ]
  },
  {
   "cell_type": "markdown",
   "metadata": {},
   "source": [
    "# Implement the Backward Algorithm\n",
    "Implement the backward algorithm for calculating the probability of a sequence of observations."
   ]
  },
  {
   "cell_type": "code",
   "execution_count": null,
   "metadata": {},
   "outputs": [],
   "source": [
    "# Implement the Backward Algorithm\n",
    "def backward_algorithm(self, obs_seq):\n",
    "    # Initialize the backward probabilities matrix\n",
    "    backward_probs = [{} for _ in range(len(obs_seq))]\n",
    "\n",
    "    # Initialize the final state probabilities\n",
    "    for state in self.states:\n",
    "        backward_probs[-1][state] = 1\n",
    "\n",
    "    # Calculate the backward probabilities\n",
    "    for t in reversed(range(len(obs_seq)-1)):\n",
    "        for state in self.states:\n",
    "            backward_probs[t][state] = sum(self.transition_probabilities[state][next_state] * self.emission_probabilities[next_state][obs_seq[t+1]] * backward_probs[t+1][next_state] for next_state in self.states)\n",
    "\n",
    "    # Return the backward probabilities matrix\n",
    "    return backward_probs\n",
    "\n",
    "# Add the backward algorithm to the HiddenMarkovModel class\n",
    "HiddenMarkovModel.backward_algorithm = backward_algorithm\n",
    "\n",
    "# Test the backward algorithm\n",
    "backward_probs = hmm.backward_algorithm(obs_seq)\n",
    "print(backward_probs)"
   ]
  },
  {
   "cell_type": "code",
   "execution_count": null,
   "metadata": {},
   "outputs": [],
   "source": [
    "# Create a bar chart\n",
    "fig, ax = plt.subplots()\n",
    "\n",
    "# Initialize the bar chart with the final state probabilities\n",
    "bars = plt.bar(backward_probs[-1].keys(), backward_probs[-1].values())\n",
    "\n",
    "# Update function for the animation\n",
    "def update(num, backward_probs, bars):\n",
    "    # Update the heights of the bars\n",
    "    for bar, state in zip(bars, backward_probs[-num].keys()):\n",
    "        bar.set_height(backward_probs[-num][state])\n",
    "\n",
    "    # Update the title of the plot\n",
    "    plt.title(f'Backward Probabilities at Time {-num}')\n",
    "\n",
    "# Create the animation\n",
    "ani = animation.FuncAnimation(fig, update, frames=len(backward_probs), fargs=[backward_probs, bars])\n",
    "\n",
    "# Display the animation\n",
    "plt.show()"
   ]
  },
  {
   "cell_type": "markdown",
   "metadata": {},
   "source": [
    "# Implement the Viterbi Algorithm\n",
    "Implement the Viterbi algorithm for finding the most likely sequence of hidden states."
   ]
  },
  {
   "cell_type": "code",
   "execution_count": null,
   "metadata": {},
   "outputs": [],
   "source": [
    "# Implement the Viterbi Algorithm\n",
    "def viterbi_algorithm(self, obs_seq):\n",
    "    # Initialize the Viterbi probabilities matrix\n",
    "    viterbi_probs = [{}]\n",
    "    # Initialize the optimal path matrix\n",
    "    opt_path = {}\n",
    "\n",
    "    # Calculate the Viterbi probabilities for the first observation\n",
    "    for state in self.states:\n",
    "        viterbi_probs[0][state] = self.initial_probabilities[state] * self.emission_probabilities[state][obs_seq[0]]\n",
    "        opt_path[state] = [state]\n",
    "\n",
    "    # Calculate the Viterbi probabilities for the rest of the observations\n",
    "    for t in range(1, len(obs_seq)):\n",
    "        viterbi_probs.append({})\n",
    "        new_path = {}\n",
    "\n",
    "        for state in self.states:\n",
    "            # Select the state that maximizes the probability\n",
    "            (prob, state_max) = max((viterbi_probs[t-1][prev_state] * self.transition_probabilities[prev_state][state] * self.emission_probabilities[state][obs_seq[t]], prev_state) for prev_state in self.states)\n",
    "            viterbi_probs[t][state] = prob\n",
    "            new_path[state] = opt_path[state_max] + [state]\n",
    "\n",
    "        # Update the path\n",
    "        opt_path = new_path\n",
    "\n",
    "    # Select the final state that maximizes the probability\n",
    "    (prob_max, state_max) = max((viterbi_probs[-1][state], state) for state in self.states)\n",
    "\n",
    "    # Return the optimal path and the maximum probability\n",
    "    return opt_path[state_max], prob_max\n",
    "\n",
    "# Add the Viterbi algorithm to the HiddenMarkovModel class\n",
    "HiddenMarkovModel.viterbi_algorithm = viterbi_algorithm\n",
    "\n",
    "# Test the Viterbi algorithm\n",
    "opt_path, prob_max = hmm.viterbi_algorithm(obs_seq)\n",
    "print('The optimal path is {} with a probability of {}'.format(opt_path, prob_max))"
   ]
  },
  {
   "cell_type": "markdown",
   "metadata": {},
   "source": [
    "# Implement the Baum-Welch Algorithm\n",
    "Implement the Baum-Welch algorithm for training the model."
   ]
  },
  {
   "cell_type": "code",
   "execution_count": null,
   "metadata": {},
   "outputs": [],
   "source": [
    "# Implement the Baum-Welch Algorithm\n",
    "def baum_welch_algorithm(self, obs_seq, iterations):\n",
    "    # Initialize the number of states and observations\n",
    "    num_states = len(self.states)\n",
    "    num_obs = len(obs_seq)\n",
    "\n",
    "    # Initialize the alpha and beta matrices\n",
    "    alpha = self.forward_algorithm(obs_seq)\n",
    "    beta = self.backward_algorithm(obs_seq)\n",
    "\n",
    "    # Iterate until convergence\n",
    "    for _ in range(iterations):\n",
    "        # Initialize the xi and gamma matrices\n",
    "        xi = [[[0.0 for _ in range(num_states)] for _ in range(num_states)] for _ in range(num_obs-1)]\n",
    "        gamma = [[0.0 for _ in range(num_states)] for _ in range(num_obs)]\n",
    "\n",
    "        # Calculate the xi and gamma matrices\n",
    "        for t in range(num_obs-1):\n",
    "            denom = sum(alpha[t][i] * beta[t][i] for i in self.states)\n",
    "            for i in self.states:\n",
    "                gamma[t][i] = (alpha[t][i] * beta[t][i]) / denom\n",
    "                for j in self.states:\n",
    "                    xi[t][i][j] = (alpha[t][i] * self.transition_probabilities[i][j] * self.emission_probabilities[j][obs_seq[t+1]] * beta[t+1][j]) / denom\n",
    "\n",
    "        # Calculate the gamma matrix for the last observation\n",
    "        denom = sum(alpha[-1][i] * beta[-1][i] for i in self.states)\n",
    "        for i in self.states:\n",
    "            gamma[-1][i] = (alpha[-1][i] * beta[-1][i]) / denom\n",
    "\n",
    "        # Update the initial probabilities\n",
    "        for i in self.states:\n",
    "            self.initial_probabilities[i] = gamma[0][i]\n",
    "\n",
    "        # Update the transition probabilities\n",
    "        for i in self.states:\n",
    "            for j in self.states:\n",
    "                numer = sum(xi[t][i][j] for t in range(num_obs-1))\n",
    "                denom = sum(gamma[t][i] for t in range(num_obs-1))\n",
    "                self.transition_probabilities[i][j] = numer / denom\n",
    "\n",
    "        # Update the emission probabilities\n",
    "        for i in self.states:\n",
    "            for obs in self.observations:\n",
    "                numer = sum(gamma[t][i] for t in range(num_obs) if obs_seq[t] == obs)\n",
    "                denom = sum(gamma[t][i] for t in range(num_obs))\n",
    "                self.emission_probabilities[i][obs] = numer / denom\n",
    "\n",
    "# Add the Baum-Welch algorithm to the HiddenMarkovModel class\n",
    "HiddenMarkovModel.baum_welch_algorithm = baum_welch_algorithm\n",
    "\n",
    "# Test the Baum-Welch algorithm\n",
    "hmm.baum_welch_algorithm(obs_seq, 10)\n",
    "print('The updated initial probabilities are {}'.format(hmm.initial_probabilities))\n",
    "print('The updated transition probabilities are {}'.format(hmm.transition_probabilities))\n",
    "print('The updated emission probabilities are {}'.format(hmm.emission_probabilities))"
   ]
  },
  {
   "cell_type": "markdown",
   "metadata": {},
   "source": [
    "# Test the Model\n",
    "Test the model with a sequence of observations and evaluate its performance."
   ]
  },
  {
   "cell_type": "code",
   "execution_count": null,
   "metadata": {},
   "outputs": [],
   "source": [
    "# Test the Model\n",
    "# Define a sequence of observations to test the model\n",
    "test_obs_seq = ('Walk', 'Shop', 'Clean', 'Walk', 'Walk')\n",
    "\n",
    "# Use the Viterbi algorithm to predict the states for the test observation sequence\n",
    "test_opt_path, test_prob_max = hmm.viterbi_algorithm(test_obs_seq)\n",
    "\n",
    "# Print the predicted states and the maximum probability\n",
    "print('The predicted states for the test observation sequence are {} with a maximum probability of {}'.format(test_opt_path, test_prob_max))\n",
    "\n",
    "# Use the forward algorithm to calculate the forward probabilities for the test observation sequence\n",
    "test_forward_probs = hmm.forward_algorithm(test_obs_seq)\n",
    "\n",
    "# Print the forward probabilities\n",
    "print('The forward probabilities for the test observation sequence are {}'.format(test_forward_probs))\n",
    "\n",
    "# Use the backward algorithm to calculate the backward probabilities for the test observation sequence\n",
    "test_backward_probs = hmm.backward_algorithm(test_obs_seq)\n",
    "\n",
    "# Print the backward probabilities\n",
    "print('The backward probabilities for the test observation sequence are {}'.format(test_backward_probs))"
   ]
  }
 ],
 "metadata": {
  "kernelspec": {
   "display_name": "Python 3",
   "language": "python",
   "name": "python3"
  },
  "language_info": {
   "codemirror_mode": {
    "name": "ipython",
    "version": 3
   },
   "file_extension": ".py",
   "mimetype": "text/x-python",
   "name": "python",
   "nbconvert_exporter": "python",
   "pygments_lexer": "ipython3",
   "version": "3.10.12"
  },
  "orig_nbformat": 4
 },
 "nbformat": 4,
 "nbformat_minor": 2
}
