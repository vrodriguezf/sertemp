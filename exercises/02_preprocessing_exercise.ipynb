{
 "cells": [
  {
   "cell_type": "markdown",
   "metadata": {},
   "source": [
    "# Part 2. Time series preprocessing - exercise\n",
    "We are going to practice what we have learnt in preprocessing and analysis lessons. Using a challenge dataset from Kaggle we are going to preprocess the dataset for a forecasting task. We may not know what forecasting is yet, but we have all the tools available to make the preprocessing. \n",
    "\n",
    "## Dataset\n",
    "You can find the target dataset at the [kaggle electric-power-consumption-data-set](https://www.kaggle.com/datasets/uciml/electric-power-consumption-data-set). The dataset contains measures of electic power consumption in a single household. Try to infer as much information from the data by yourself even before downloading the dataset.\n",
    "\n",
    "## Objective\n",
    "Your task is to prepare a dataframe and save it as a .csv file. The dataframe must have rows with sliding windows for all the variables and the window size is w=5min. Thus, there must be a column for the timestamp at $t$ and a column with each variable $Z^{(i)}$ where $Z^{(i)}=\\{Z^{(i)}_t, Z^{(i)}_{t-1}, Z^{(i)}_{t-2}, ..., Z^{(i)}_{t-w}\\}$ and $i$ is the identifier of the variable. Preprocess the dataset as best as you can using the techniques learned during the previous lesson. Begin with:\n",
    "- Plot the variables, including advanced plots\n",
    "- Perform a simple EDA\n",
    "\n",
    "And keep an eye out for:\n",
    "- Missing data\n",
    "- Magnitudes of the variables\n",
    "- Stationarity\n",
    "- Seasonality\n",
    "- Trend\n",
    "\n",
    "Use whatever means necessary to achieve a high-quality preprocessing!"
   ]
  },
  {
   "cell_type": "code",
   "execution_count": null,
   "metadata": {},
   "outputs": [],
   "source": []
  }
 ],
 "metadata": {
  "language_info": {
   "name": "python"
  }
 },
 "nbformat": 4,
 "nbformat_minor": 2
}
